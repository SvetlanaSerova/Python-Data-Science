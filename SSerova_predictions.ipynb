{
 "cells": [
  {
   "cell_type": "code",
   "execution_count": 1,
   "metadata": {},
   "outputs": [],
   "source": [
    "import numpy as np\n",
    "import pandas as pd\n",
    "from sklearn.linear_model import LinearRegression, Ridge\n",
    "from sklearn.model_selection import train_test_split\n",
    "from sklearn.metrics import r2_score\n",
    "from sklearn.metrics import mean_squared_error\n",
    "from sklearn.preprocessing import MinMaxScaler\n",
    "from sklearn.svm import SVC\n",
    "from sklearn.tree import DecisionTreeClassifier\n",
    "from sklearn.ensemble import RandomForestClassifier\n",
    "from sklearn.model_selection import GridSearchCV"
   ]
  },
  {
   "cell_type": "code",
   "execution_count": 2,
   "metadata": {},
   "outputs": [],
   "source": [
    "data = pd.read_csv('input/train.csv')\n",
    "test = pd.read_csv('input/test.csv')"
   ]
  },
  {
   "cell_type": "code",
   "execution_count": 3,
   "metadata": {
    "scrolled": true
   },
   "outputs": [],
   "source": [
    "train, valid = train_test_split(data, test_size=0.3, random_state=42)\n",
    "\n",
    "train = train.copy()\n",
    "valid = valid.copy()"
   ]
  },
  {
   "cell_type": "code",
   "execution_count": 4,
   "metadata": {},
   "outputs": [],
   "source": [
    "def prepare_HouseYear(df):\n",
    "    df.loc[df['HouseYear'] > 2020, 'HouseYear'] = 1977\n",
    "    df.loc[df['HouseYear'] < 1900, 'HouseYear'] = 1977\n",
    "    return df"
   ]
  },
  {
   "cell_type": "code",
   "execution_count": 5,
   "metadata": {},
   "outputs": [],
   "source": [
    "def prepare_Rooms(df):\n",
    "    df.loc[df['Rooms'] >= 5, 'Rooms'] = 2\n",
    "    df.loc[df['Rooms'] == 0, 'Rooms'] = 2\n",
    "    return df"
   ]
  },
  {
   "cell_type": "code",
   "execution_count": 6,
   "metadata": {},
   "outputs": [],
   "source": [
    "def prepare_Square(df):\n",
    "    df.loc[df['Square'] > 250, 'Square'] = 45\n",
    "    df.loc[df['Square'] < 20, 'Square'] = 45\n",
    "    return df"
   ]
  },
  {
   "cell_type": "code",
   "execution_count": 7,
   "metadata": {},
   "outputs": [],
   "source": [
    "def prepare_LifeSquare(df):\n",
    "    df.loc[df['LifeSquare'] > 250.0, 'LifeSquare'] = df['Square']*0.92\n",
    "    df.loc[df['LifeSquare'] < 22, 'LifeSquare'] = df['Square']*0.92\n",
    "    df.loc[df['LifeSquare'].isnull(), 'LifeSquare'] = df['Square']*0.92\n",
    "    df.loc[df['LifeSquare'] > df['Square'], 'LifeSquare'] = df['Square']*0.92\n",
    "    return df"
   ]
  },
  {
   "cell_type": "code",
   "execution_count": 8,
   "metadata": {},
   "outputs": [],
   "source": [
    "def prepare_KitchenSquare(df):\n",
    "    df.loc[df['KitchenSquare'] > 20, 'KitchenSquare'] = 5+2*df['Rooms']\n",
    "    df.loc[df['KitchenSquare'] <= 3, 'KitchenSquare'] = 5+2*df['Rooms']\n",
    "    return df"
   ]
  },
  {
   "cell_type": "code",
   "execution_count": 9,
   "metadata": {},
   "outputs": [],
   "source": [
    "def prepare_HouseFloor(df):\n",
    "    df.loc[df['HouseFloor'] < df['Floor'], 'HouseFloor'] = df['Floor']\n",
    "    return df"
   ]
  },
  {
   "cell_type": "code",
   "execution_count": 10,
   "metadata": {},
   "outputs": [],
   "source": [
    "def normalisation(df):\n",
    "    cols_for_scale = ['Rooms', 'Square' , 'Price']\n",
    "    scaler = MinMaxScaler()\n",
    "    df[cols_for_scale] = scaler.fit_transform(df[cols_for_scale])\n",
    "    return df"
   ]
  },
  {
   "cell_type": "code",
   "execution_count": 11,
   "metadata": {},
   "outputs": [],
   "source": [
    "def FirstFloor(df):\n",
    "    df.loc[df['Floor'] <= 1, 'FirstFloor'] = 0\n",
    "    df.loc[df['Floor'] > 1, 'FirstFloor'] = 1\n",
    "    return df"
   ]
  },
  {
   "cell_type": "code",
   "execution_count": 12,
   "metadata": {},
   "outputs": [],
   "source": [
    "def Kitchen(df):\n",
    "    df.loc[df['KitchenSquare'] <= 10, 'Kitchen'] = 0\n",
    "    df.loc[df['KitchenSquare'] > 10, 'Kitchen'] = 1\n",
    "    return df"
   ]
  },
  {
   "cell_type": "code",
   "execution_count": 13,
   "metadata": {},
   "outputs": [],
   "source": [
    "def Year(df):\n",
    "    df.loc[df['HouseYear'] <= 2010, 'Year'] = 0\n",
    "    df.loc[df['HouseYear'] > 2010, 'Year'] = 1\n",
    "    return df"
   ]
  },
  {
   "cell_type": "code",
   "execution_count": 14,
   "metadata": {},
   "outputs": [],
   "source": [
    "def Novostroy(df):\n",
    "    df.loc[df['HouseYear'] <= 2016, 'Novostroy'] = 0\n",
    "    df.loc[df['HouseYear'] > 2016, 'Novostroy'] = 1\n",
    "    return df"
   ]
  },
  {
   "cell_type": "code",
   "execution_count": 15,
   "metadata": {},
   "outputs": [],
   "source": [
    "def MeanPricePerSquare(df):\n",
    "    df_mean = train.loc[train['DistrictCount'] > 2, :].groupby(['DistrictId', 'Rooms']).agg({'Price': 'sum', 'Square':'sum'})\n",
    "    df_mean = df_mean.rename(columns={'Price':'SumPrice'})\n",
    "    df_mean = df_mean.rename(columns={'Square':'SumSquare'})\n",
    "    df_mean['MeanPricePerSquare'] = df_mean['SumPrice']/df_mean['SumSquare']\n",
    "    df_mean = df_mean.drop('SumPrice', axis=1)\n",
    "    df_mean = df_mean.drop('SumSquare', axis=1)\n",
    "    df = pd.merge(df, df_mean, on=['DistrictId', 'Rooms'], how='left')\n",
    "    df.loc[df['MeanPricePerSquare'].isnull(), 'MeanPricePerSquare'] = df_mean['MeanPricePerSquare'].mean()\n",
    "    return df"
   ]
  },
  {
   "cell_type": "code",
   "execution_count": 16,
   "metadata": {},
   "outputs": [],
   "source": [
    "def DistrictCount(df):\n",
    "    df_d = df.groupby('DistrictId').agg({'DistrictId': 'count'})\n",
    "    df_d = df_d.rename(columns={'DistrictId':'DistrictCount'})\n",
    "    df = pd.merge(df, df_d, on='DistrictId', how='left')\n",
    "    return df"
   ]
  },
  {
   "cell_type": "code",
   "execution_count": 17,
   "metadata": {},
   "outputs": [],
   "source": [
    "def MeanPricePerSquare2(df):\n",
    "    df_mean2 = train.loc[train['DistrictCount'] > 2, :].groupby('DistrictId').agg({'Price': 'sum', 'Square':'sum'})\n",
    "    df_mean2 = df_mean2.rename(columns={'Price':'SumPrice'})\n",
    "    df_mean2 = df_mean2.rename(columns={'Square':'SumSquare'})\n",
    "    df_mean2['MeanPricePerSquare2'] = df_mean2['SumPrice']/df_mean2['SumSquare']\n",
    "    df_mean2 = df_mean2.drop('SumPrice', axis=1)\n",
    "    df_mean2 = df_mean2.drop('SumSquare', axis=1)\n",
    "    df = pd.merge(df, df_mean2, on='DistrictId', how='left')\n",
    "    df.loc[df['MeanPricePerSquare2'].isnull(), 'MeanPricePerSquare2'] = df_mean2['MeanPricePerSquare2'].mean()\n",
    "    return df"
   ]
  },
  {
   "cell_type": "code",
   "execution_count": 18,
   "metadata": {},
   "outputs": [],
   "source": [
    "def MeanSquareRoom(df):\n",
    "    df['MeanSquareRoom'] = df['Square']/df['Rooms']\n",
    "    return df"
   ]
  },
  {
   "cell_type": "code",
   "execution_count": 19,
   "metadata": {},
   "outputs": [],
   "source": [
    "train['Ecology_2'] = (train['Ecology_2'] == 'A').astype(int)\n",
    "train['Ecology_3'] = (train['Ecology_3'] == 'A').astype(int)\n",
    "train['Shops_2'] = (train['Shops_2'] == 'A').astype(int)\n",
    "\n",
    "valid['Ecology_2'] = (valid['Ecology_2'] == 'A').astype(int)\n",
    "valid['Ecology_3'] = (valid['Ecology_3'] == 'A').astype(int)\n",
    "valid['Shops_2'] = (valid['Shops_2'] == 'A').astype(int)\n",
    "\n",
    "test['Ecology_2'] = (test['Ecology_2'] == 'A').astype(int)\n",
    "test['Ecology_3'] = (test['Ecology_3'] == 'A').astype(int)\n",
    "test['Shops_2'] = (test['Shops_2'] == 'A').astype(int)"
   ]
  },
  {
   "cell_type": "code",
   "execution_count": 20,
   "metadata": {},
   "outputs": [],
   "source": [
    "train = train.drop('Healthcare_1', axis=1)\n",
    "valid = valid.drop('Healthcare_1', axis=1)\n",
    "test = test.drop('Healthcare_1', axis=1)"
   ]
  },
  {
   "cell_type": "code",
   "execution_count": 21,
   "metadata": {},
   "outputs": [
    {
     "data": {
      "text/html": [
       "<div>\n",
       "<style scoped>\n",
       "    .dataframe tbody tr th:only-of-type {\n",
       "        vertical-align: middle;\n",
       "    }\n",
       "\n",
       "    .dataframe tbody tr th {\n",
       "        vertical-align: top;\n",
       "    }\n",
       "\n",
       "    .dataframe thead th {\n",
       "        text-align: right;\n",
       "    }\n",
       "</style>\n",
       "<table border=\"1\" class=\"dataframe\">\n",
       "  <thead>\n",
       "    <tr style=\"text-align: right;\">\n",
       "      <th></th>\n",
       "      <th>Id</th>\n",
       "      <th>DistrictId</th>\n",
       "      <th>Rooms</th>\n",
       "      <th>Square</th>\n",
       "      <th>LifeSquare</th>\n",
       "      <th>KitchenSquare</th>\n",
       "      <th>Floor</th>\n",
       "      <th>HouseFloor</th>\n",
       "      <th>HouseYear</th>\n",
       "      <th>Ecology_1</th>\n",
       "      <th>...</th>\n",
       "      <th>Shops_1</th>\n",
       "      <th>Shops_2</th>\n",
       "      <th>Price</th>\n",
       "      <th>DistrictCount</th>\n",
       "      <th>FirstFloor</th>\n",
       "      <th>MeanPricePerSquare2</th>\n",
       "      <th>MeanSquareRoom</th>\n",
       "      <th>Kitchen</th>\n",
       "      <th>Year</th>\n",
       "      <th>Novostroy</th>\n",
       "    </tr>\n",
       "  </thead>\n",
       "  <tbody>\n",
       "    <tr>\n",
       "      <th>0</th>\n",
       "      <td>14604</td>\n",
       "      <td>23</td>\n",
       "      <td>1.0</td>\n",
       "      <td>41.681380</td>\n",
       "      <td>22.796166</td>\n",
       "      <td>8.0</td>\n",
       "      <td>14</td>\n",
       "      <td>17.0</td>\n",
       "      <td>2015</td>\n",
       "      <td>0.075779</td>\n",
       "      <td>...</td>\n",
       "      <td>2</td>\n",
       "      <td>0</td>\n",
       "      <td>88504.384965</td>\n",
       "      <td>394</td>\n",
       "      <td>1.0</td>\n",
       "      <td>2225.145880</td>\n",
       "      <td>41.681380</td>\n",
       "      <td>0.0</td>\n",
       "      <td>1.0</td>\n",
       "      <td>0.0</td>\n",
       "    </tr>\n",
       "    <tr>\n",
       "      <th>1</th>\n",
       "      <td>5621</td>\n",
       "      <td>23</td>\n",
       "      <td>3.0</td>\n",
       "      <td>163.495333</td>\n",
       "      <td>161.504222</td>\n",
       "      <td>12.0</td>\n",
       "      <td>5</td>\n",
       "      <td>5.0</td>\n",
       "      <td>1977</td>\n",
       "      <td>0.014073</td>\n",
       "      <td>...</td>\n",
       "      <td>0</td>\n",
       "      <td>0</td>\n",
       "      <td>207007.956663</td>\n",
       "      <td>394</td>\n",
       "      <td>1.0</td>\n",
       "      <td>2225.145880</td>\n",
       "      <td>54.498444</td>\n",
       "      <td>1.0</td>\n",
       "      <td>0.0</td>\n",
       "      <td>0.0</td>\n",
       "    </tr>\n",
       "    <tr>\n",
       "      <th>2</th>\n",
       "      <td>235</td>\n",
       "      <td>87</td>\n",
       "      <td>1.0</td>\n",
       "      <td>39.710131</td>\n",
       "      <td>36.533320</td>\n",
       "      <td>8.0</td>\n",
       "      <td>4</td>\n",
       "      <td>17.0</td>\n",
       "      <td>1986</td>\n",
       "      <td>0.100456</td>\n",
       "      <td>...</td>\n",
       "      <td>6</td>\n",
       "      <td>1</td>\n",
       "      <td>182126.280899</td>\n",
       "      <td>21</td>\n",
       "      <td>1.0</td>\n",
       "      <td>4177.354863</td>\n",
       "      <td>39.710131</td>\n",
       "      <td>0.0</td>\n",
       "      <td>0.0</td>\n",
       "      <td>0.0</td>\n",
       "    </tr>\n",
       "    <tr>\n",
       "      <th>3</th>\n",
       "      <td>16258</td>\n",
       "      <td>48</td>\n",
       "      <td>3.0</td>\n",
       "      <td>96.056784</td>\n",
       "      <td>88.372241</td>\n",
       "      <td>11.0</td>\n",
       "      <td>15</td>\n",
       "      <td>15.0</td>\n",
       "      <td>2017</td>\n",
       "      <td>0.041125</td>\n",
       "      <td>...</td>\n",
       "      <td>10</td>\n",
       "      <td>0</td>\n",
       "      <td>524365.550705</td>\n",
       "      <td>62</td>\n",
       "      <td>1.0</td>\n",
       "      <td>4997.972940</td>\n",
       "      <td>32.018928</td>\n",
       "      <td>1.0</td>\n",
       "      <td>1.0</td>\n",
       "      <td>1.0</td>\n",
       "    </tr>\n",
       "    <tr>\n",
       "      <th>4</th>\n",
       "      <td>10773</td>\n",
       "      <td>77</td>\n",
       "      <td>3.0</td>\n",
       "      <td>79.195825</td>\n",
       "      <td>44.421062</td>\n",
       "      <td>10.0</td>\n",
       "      <td>16</td>\n",
       "      <td>17.0</td>\n",
       "      <td>1984</td>\n",
       "      <td>0.298205</td>\n",
       "      <td>...</td>\n",
       "      <td>3</td>\n",
       "      <td>0</td>\n",
       "      <td>322048.433990</td>\n",
       "      <td>28</td>\n",
       "      <td>1.0</td>\n",
       "      <td>4189.330218</td>\n",
       "      <td>26.398608</td>\n",
       "      <td>0.0</td>\n",
       "      <td>0.0</td>\n",
       "      <td>0.0</td>\n",
       "    </tr>\n",
       "  </tbody>\n",
       "</table>\n",
       "<p>5 rows × 26 columns</p>\n",
       "</div>"
      ],
      "text/plain": [
       "      Id  DistrictId  Rooms      Square  LifeSquare  KitchenSquare  Floor  \\\n",
       "0  14604          23    1.0   41.681380   22.796166            8.0     14   \n",
       "1   5621          23    3.0  163.495333  161.504222           12.0      5   \n",
       "2    235          87    1.0   39.710131   36.533320            8.0      4   \n",
       "3  16258          48    3.0   96.056784   88.372241           11.0     15   \n",
       "4  10773          77    3.0   79.195825   44.421062           10.0     16   \n",
       "\n",
       "   HouseFloor  HouseYear  Ecology_1    ...      Shops_1  Shops_2  \\\n",
       "0        17.0       2015   0.075779    ...            2        0   \n",
       "1         5.0       1977   0.014073    ...            0        0   \n",
       "2        17.0       1986   0.100456    ...            6        1   \n",
       "3        15.0       2017   0.041125    ...           10        0   \n",
       "4        17.0       1984   0.298205    ...            3        0   \n",
       "\n",
       "           Price  DistrictCount  FirstFloor  MeanPricePerSquare2  \\\n",
       "0   88504.384965            394         1.0          2225.145880   \n",
       "1  207007.956663            394         1.0          2225.145880   \n",
       "2  182126.280899             21         1.0          4177.354863   \n",
       "3  524365.550705             62         1.0          4997.972940   \n",
       "4  322048.433990             28         1.0          4189.330218   \n",
       "\n",
       "   MeanSquareRoom  Kitchen  Year  Novostroy  \n",
       "0       41.681380      0.0   1.0        0.0  \n",
       "1       54.498444      1.0   0.0        0.0  \n",
       "2       39.710131      0.0   0.0        0.0  \n",
       "3       32.018928      1.0   1.0        1.0  \n",
       "4       26.398608      0.0   0.0        0.0  \n",
       "\n",
       "[5 rows x 26 columns]"
      ]
     },
     "execution_count": 21,
     "metadata": {},
     "output_type": "execute_result"
    }
   ],
   "source": [
    "prepare_HouseYear(train)\n",
    "prepare_Rooms(train)\n",
    "prepare_Square(train)\n",
    "prepare_LifeSquare(train)\n",
    "prepare_KitchenSquare(train)\n",
    "prepare_HouseFloor(train)\n",
    "train = DistrictCount(train)\n",
    "FirstFloor(train)\n",
    "#train = MeanPricePerSquare(train)\n",
    "train = MeanPricePerSquare2(train)\n",
    "MeanSquareRoom(train)\n",
    "Kitchen(train)\n",
    "Year(train)\n",
    "Novostroy(train)\n",
    "#normalisation(train)\n",
    "\n",
    "prepare_HouseYear(valid)\n",
    "prepare_Rooms(valid)\n",
    "prepare_Square(valid)\n",
    "prepare_LifeSquare(valid)\n",
    "prepare_KitchenSquare(valid)\n",
    "prepare_HouseFloor(valid)\n",
    "valid = DistrictCount(valid)\n",
    "FirstFloor(valid)\n",
    "#valid = MeanPricePerSquare(valid)\n",
    "valid = MeanPricePerSquare2(valid)\n",
    "MeanSquareRoom(valid)\n",
    "Kitchen(valid)\n",
    "Year(valid)\n",
    "Novostroy(valid)\n",
    "#normalisation(valid)\n",
    "\n",
    "prepare_HouseYear(test)\n",
    "prepare_Rooms(test)\n",
    "prepare_Square(test)\n",
    "prepare_LifeSquare(test)\n",
    "prepare_KitchenSquare(test)\n",
    "prepare_HouseFloor(test)\n",
    "test = DistrictCount(test)\n",
    "FirstFloor(test)\n",
    "#test = MeanPricePerSquare(test)\n",
    "test = MeanPricePerSquare2(test)\n",
    "MeanSquareRoom(test)\n",
    "Kitchen(test)\n",
    "Year(test)\n",
    "Novostroy(test)\n",
    "#normalisation(test)\n",
    "\n",
    "train.head(5)"
   ]
  },
  {
   "cell_type": "markdown",
   "metadata": {},
   "source": [
    "### Model"
   ]
  },
  {
   "cell_type": "code",
   "execution_count": 22,
   "metadata": {},
   "outputs": [],
   "source": [
    "feats = [\n",
    "    'Rooms', \n",
    "    'Square', \n",
    "    'KitchenSquare', \n",
    "    'HouseYear', \n",
    "    'LifeSquare', \n",
    "    'Floor', \n",
    "    'HouseFloor', \n",
    "    'FirstFloor', \n",
    "    #'MeanPricePerSquare', \n",
    "    'Novostroy',\n",
    "    'MeanSquareRoom',\n",
    "    'MeanPricePerSquare2',\n",
    "    #'DistrictCount',\n",
    "    'Kitchen',\n",
    "    'Year',\n",
    "    'Ecology_1', \n",
    "    'Ecology_2', 'Ecology_3', 'Social_1', 'Social_2', \n",
    "    'Social_3','Helthcare_2', 'Shops_1', \n",
    "    'Shops_2']"
   ]
  },
  {
   "cell_type": "code",
   "execution_count": 23,
   "metadata": {},
   "outputs": [],
   "source": [
    "base_model = Ridge(alpha=1.0)\n",
    "base_model.fit(train.loc[:, feats], train['Price'])\n",
    "pred_train = base_model.predict(train.loc[:, feats])\n",
    "pred_valid = base_model.predict(valid.loc[:, feats])"
   ]
  },
  {
   "cell_type": "code",
   "execution_count": 24,
   "metadata": {},
   "outputs": [
    {
     "data": {
      "text/plain": [
       "0.7035938977204665"
      ]
     },
     "execution_count": 24,
     "metadata": {},
     "output_type": "execute_result"
    }
   ],
   "source": [
    "r2_score(train['Price'], pred_train)"
   ]
  },
  {
   "cell_type": "code",
   "execution_count": 25,
   "metadata": {},
   "outputs": [
    {
     "data": {
      "text/plain": [
       "0.6516269645257696"
      ]
     },
     "execution_count": 25,
     "metadata": {},
     "output_type": "execute_result"
    }
   ],
   "source": [
    "r2_score(valid['Price'], pred_valid)"
   ]
  },
  {
   "cell_type": "code",
   "execution_count": 26,
   "metadata": {},
   "outputs": [],
   "source": [
    "test['Price'] = base_model.predict(test.loc[:, feats])"
   ]
  },
  {
   "cell_type": "code",
   "execution_count": 27,
   "metadata": {},
   "outputs": [],
   "source": [
    "test.loc[:, ['Id', 'Price']].to_csv('SSerova_predictions.csv', index=None)"
   ]
  }
 ],
 "metadata": {
  "kernelspec": {
   "display_name": "Python 3",
   "language": "python",
   "name": "python3"
  },
  "language_info": {
   "codemirror_mode": {
    "name": "ipython",
    "version": 3
   },
   "file_extension": ".py",
   "mimetype": "text/x-python",
   "name": "python",
   "nbconvert_exporter": "python",
   "pygments_lexer": "ipython3",
   "version": "3.7.1"
  }
 },
 "nbformat": 4,
 "nbformat_minor": 2
}
